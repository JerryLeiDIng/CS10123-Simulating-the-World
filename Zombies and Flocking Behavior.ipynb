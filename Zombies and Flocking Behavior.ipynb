{
 "cells": [
  {
   "cell_type": "markdown",
   "metadata": {},
   "source": [
    "Introduction: zombie attack in World War Z video?\n",
    "\n",
    "How can we simulate zombie behavior . . .\n",
    "Important question for national security!\n",
    "\n",
    "Couple of ways to approach this: PATHFINDING [assume the zombies are seeking a single target]\n",
    "PURSUIT [Chase prey (us!)]\n",
    "OBSTACLE AVOIDANCE [Effectively maneuver around obstacles]\n",
    "FLOCKING [Stick together and move together - single zombies aren't as scary!]\n",
    "\n",
    "We won't consider 1 for now.\n",
    "Let's start with PURSUIT: how can we simulate a chase?\n",
    "What's a reasonable way to represent the position/velocity of a single zombie?\n",
    "How can we calculate the vector that the zombie should follow?\n",
    "**Easy example, just take the vector from zombie to person**\n",
    "What's the problem? Feels unnatural\n",
    "\n",
    "Scale with a \"force\" vector\n",
    "**Smoother example**\n",
    "\n",
    "But look at how the zombie acts \"stupid\" -> doesn't track where the target is going!\n",
    "Overshoots, doesn't predict when mouse is moving quickly\n",
    "\n",
    "**SLOWING when zombie approaches target\n",
    "Prediction T steps into the future! But how to choose T? scale it with the \n",
    "\n",
    "Then OBSTACLE AVOIDANCE\n",
    "\n",
    "Finally FLOCKING\n",
    "**Three basic behaviors that govern flock behavior**"
   ]
  },
  {
   "cell_type": "code",
   "execution_count": null,
   "metadata": {
    "collapsed": true
   },
   "outputs": [],
   "source": []
  },
  {
   "cell_type": "code",
   "execution_count": null,
   "metadata": {
    "collapsed": true
   },
   "outputs": [],
   "source": []
  }
 ],
 "metadata": {
  "kernelspec": {
   "display_name": "Python 2",
   "language": "python",
   "name": "python2"
  },
  "language_info": {
   "codemirror_mode": {
    "name": "ipython",
    "version": 2
   },
   "file_extension": ".py",
   "mimetype": "text/x-python",
   "name": "python",
   "nbconvert_exporter": "python",
   "pygments_lexer": "ipython2",
   "version": "2.7.6"
  }
 },
 "nbformat": 4,
 "nbformat_minor": 0
}
